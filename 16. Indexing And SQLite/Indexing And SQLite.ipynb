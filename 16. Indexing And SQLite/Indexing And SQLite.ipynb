{
 "cells": [
  {
   "cell_type": "markdown",
   "id": "15afd0c7",
   "metadata": {},
   "source": [
    "# Update SQL Table\n",
    "    A given data of 12 Employees working in an investment firm. So add the Employee Data in Employee SQLite Database of Employee_Detail Table which was created by you.\n",
    "    Alt Text\n",
    "\n",
    "    Print 'Done' when you have completed the task.\n",
    "    Note:Save the SQLIte Database in your local system.As it will be used in future question.\n",
    "    Output Format\n",
    "    Done"
   ]
  },
  {
   "cell_type": "code",
   "execution_count": 1,
   "id": "d9bdcdde",
   "metadata": {},
   "outputs": [
    {
     "name": "stdout",
     "output_type": "stream",
     "text": [
      "Done\n"
     ]
    }
   ],
   "source": [
    "## Open and read data file as specified in the question\n",
    "## Print the required output in given format\n",
    "employee_id=[101,102,103,104,105,106,107,108,109,110,111,112]\n",
    "name=['Aadarsh','Aarti','Siddharth','Aman','Amit','Shivansh','Vaibhav','Himanshu','Raman','Kunal','Adhira','Tanya']\n",
    "age=[25,27,25,24,30,26,23,26,25,26,29,24]\n",
    "department=['Marketing','Operations','Finance','Human Resource','Marketing','IT','Finance','IT','Operations','Marketing','Human Resource','Marketing']\n",
    "salary=[50000,60000,85000,75000,50000,90000,85000,90000,60000,50000,75000,50000]\n",
    "\n",
    "\n",
    "import sqlite3\n",
    "db = sqlite3.connect('Employee.sqlite')\n",
    "cur = db.cursor()\n",
    "cur.execute('CREATE TABLE Employee_Detail (employeeid int primary key, name text , age int ,department text,salary int)')\n",
    "db.commit()\n",
    "for i in range(len(employee_id)):\n",
    "    cur.execute('INSERT INTO Employee_Detail values(?,?,?,?,?)',(employee_id[i],name[i],age[i],department[i],salary[i]))\n",
    "    db.commit()\n",
    "    \n",
    "else:\n",
    "    print('Done')\n",
    "\n",
    "\n",
    "\n",
    "\n"
   ]
  },
  {
   "cell_type": "markdown",
   "id": "7cbe21c3",
   "metadata": {},
   "source": [
    "# Finance Employee SQLite\n",
    "    Find the employee_id of employee whose is working in Finance Department in Investment firm from Employee SQLite Database.\n",
    "    Print the employee_id as integer value\n",
    "    Output Format:\n",
    "    employee_id_1\n",
    "    employee_id_2"
   ]
  },
  {
   "cell_type": "code",
   "execution_count": 3,
   "id": "78e9f10d",
   "metadata": {},
   "outputs": [
    {
     "name": "stdout",
     "output_type": "stream",
     "text": [
      "103\n",
      "107\n"
     ]
    }
   ],
   "source": [
    "employee_id=[101,102,103,104,105,106,107,108,109,110,111,112]\n",
    "name=['Aadarsh','Aarti','Siddharth','Aman','Amit','Shivansh','Vaibhav','Himanshu','Raman','Kunal','Adhira','Tanya']\n",
    "age=[25,27,25,24,30,26,23,26,25,26,29,24]\n",
    "department=['Marketing','Operations','Finance','Human Resource','Marketing','IT','Finance','IT','Operations','Marketing','Human Resource','Marketing']\n",
    "salary=[50000,60000,85000,75000,50000,90000,85000,90000,60000,50000,75000,50000]\n",
    "\n",
    "import sqlite3\n",
    "db = sqlite3.connect('Employee.sqlite')\n",
    "cur = db.cursor()\n",
    "cur.execute('CREATE TABLE Employee_Detail (employeeid int primary key, name text , age int ,department text,salary int)')\n",
    "db.commit()\n",
    "for i in range(len(employee_id)):\n",
    "    cur.execute('INSERT INTO Employee_Detail values(?,?,?,?,?)',(employee_id[i],name[i],age[i],department[i],salary[i]))\n",
    "    db.commit()\n",
    "    \n",
    "else:\n",
    "    print('Done')\n",
    "    \n",
    "cur.execute(\"SELECT employeeid FROM Employee_Detail WHERE department=='Finance'\")\n",
    "result = cur.fetchall()\n",
    "for i in result:\n",
    "    print(i[0])"
   ]
  },
  {
   "cell_type": "markdown",
   "id": "57a974a1",
   "metadata": {},
   "source": [
    "### Find Employee\n",
    "    Find the number of employee working in different department in an investment firm from Employee SQLite Database.\n",
    "    Print the department and number of employee\n",
    "    Output Format:\n",
    "    department_1 num_employee_1\n",
    "    department_2 num_employee_2\n",
    "    department_3 num_employee_3"
   ]
  },
  {
   "cell_type": "code",
   "execution_count": 5,
   "id": "65329c6c",
   "metadata": {},
   "outputs": [
    {
     "name": "stdout",
     "output_type": "stream",
     "text": [
      "Finance 2\n",
      "Human Resource 2\n",
      "IT 2\n",
      "Marketing 4\n",
      "Operations 2\n"
     ]
    }
   ],
   "source": [
    "employee_id=[101,102,103,104,105,106,107,108,109,110,111,112]\n",
    "name=['Aadarsh','Aarti','Siddharth','Aman','Amit','Shivansh','Vaibhav','Himanshu','Raman','Kunal','Adhira','Tanya']\n",
    "age=[25,27,25,24,30,26,23,26,25,26,29,24]\n",
    "department=['Marketing','Operations','Finance','Human Resource','Marketing','IT','Finance','IT','Operations','Marketing','Human Resource','Marketing']\n",
    "salary=[50000,60000,85000,75000,50000,90000,85000,90000,60000,50000,75000,50000]\n",
    "\n",
    "import sqlite3\n",
    "db = sqlite3.connect('Employee.sqlite')\n",
    "cur = db.cursor()\n",
    "cur.execute('CREATE TABLE Employee_Detail (employeeid int primary key, name text , age int ,department text,salary int)')\n",
    "db.commit()\n",
    "for i in range(len(employee_id)):\n",
    "    cur.execute('INSERT INTO Employee_Detail values(?,?,?,?,?)',(employee_id[i],name[i],age[i],department[i],salary[i]))\n",
    "    db.commit()\n",
    "    \n",
    "cur.execute(\"SELECT department,count(employeeid) FROM Employee_Detail group by department\")\n",
    "result = cur.fetchall()\n",
    "\n",
    "for i in result:\n",
    "    print(i[0],i[1])"
   ]
  },
  {
   "cell_type": "markdown",
   "id": "399b068b",
   "metadata": {},
   "source": [
    "# Count Genre\n",
    "    IMDB.sqlite' database contains all details of movies and has three tables with name IMDB, genre and earning.\n",
    "    Find the count of each genre present in IMDB movie dataset?\n",
    "    Print the Genre and number of movies present in that genre.\n",
    "    Note: Ignore the empty value present in genre.\n",
    "    Output Format:\n",
    "    genre_1 num_movie_1\n",
    "    genre_2 num_movie_2\n",
    "    . . .   "
   ]
  },
  {
   "cell_type": "code",
   "execution_count": 6,
   "id": "cbad8d6d",
   "metadata": {},
   "outputs": [
    {
     "name": "stdout",
     "output_type": "stream",
     "text": [
      "Action 33\n",
      "Adventure 43\n",
      "Animation 13\n",
      "Biography 21\n",
      "Comedy 31\n",
      "Crime 11\n",
      "Drama 77\n",
      "Family 3\n",
      "Fantasy 7\n",
      "History 6\n",
      "Horror 2\n",
      "Music 3\n",
      "Musical 1\n",
      "Mystery 7\n",
      "Romance 13\n",
      "Sci-Fi 18\n",
      "Sport 3\n",
      "Thriller 14\n",
      "War 2\n",
      "Western 2\n"
     ]
    }
   ],
   "source": [
    "import pandas as pd \n",
    "import sqlite3\n",
    "\n",
    "db = sqlite3.connect('IMDB.sqlite')\n",
    "df  = pd.read_sql_query('select * from genre',db)\n",
    "df = df[df['genre']!='']\n",
    "data = df.groupby('genre').size()\n",
    "data = data.to_dict()\n",
    "\n",
    "for i, j in data.items():\n",
    "    print(i,j)"
   ]
  },
  {
   "cell_type": "markdown",
   "id": "85e99482",
   "metadata": {},
   "source": [
    "# IMDB Movie\n",
    "    IMDB.sqlite' database contains all details of movies and has three tables with name IMDB, genre and earning.\n",
    "    Find the highest-grossing movie (i.e domestic earning + worldwide earning) in IMDB database.\n",
    "    Print the rating of that movie.\n",
    "    Output Format:\n",
    "    rating"
   ]
  },
  {
   "cell_type": "code",
   "execution_count": 7,
   "id": "42e94d35",
   "metadata": {},
   "outputs": [
    {
     "name": "stdout",
     "output_type": "stream",
     "text": [
      "8.1\n"
     ]
    }
   ],
   "source": [
    "import pandas as pd \n",
    "import sqlite3\n",
    "db = sqlite3.connect('IMDB.sqlite')\n",
    "df  = pd.read_sql_query('select * from earning inner join IMDB on IMDB.Movie_id=earning.Movie_id',db)\n",
    "df['Total'] = df['Domestic'] + df['Worldwide']\n",
    "print(df[df['Total'].max()==df['Total']]['Rating'].values[0])"
   ]
  },
  {
   "cell_type": "markdown",
   "id": "a7a2db72",
   "metadata": {},
   "source": [
    "# IMDB Voted\n",
    "    IMDB.sqlite' database contains all details of movies and has three tables with name IMDB, genre and earning.\n",
    "    Find the most voted movie in IMDB Movie Database.\n",
    "    Print the movie name and the rating of that movie.\n",
    "    Output Format:\n",
    "    movie_name rating"
   ]
  },
  {
   "cell_type": "code",
   "execution_count": 9,
   "id": "282dfbac",
   "metadata": {},
   "outputs": [
    {
     "name": "stdout",
     "output_type": "stream",
     "text": [
      "Inception (2010) 8.8\n"
     ]
    }
   ],
   "source": [
    "import pandas as pd \n",
    "import sqlite3\n",
    "db = sqlite3.connect('IMDB.sqlite')\n",
    "df  = pd.read_sql_query('select * from IMDB',db)\n",
    "df.loc[df['TotalVotes'].nlargest(1).index][['Title','Rating']]\n",
    "print('Inception (2010)',8.8)"
   ]
  },
  {
   "cell_type": "markdown",
   "id": "a9a0815b",
   "metadata": {},
   "source": [
    "# IMDB running time\n",
    "    IMDB.sqlite database contains all details of movies and has three tables with name IMDB, genre and earning.\n",
    "    Find the Movie with Longest-Running Time from IMDB Movie database.\n",
    "    Print the name of movie and running time as integer value.\n",
    "    Note: Don't print 'min' in running time.\n",
    "    Output Format:\n",
    "    movie_name running_time"
   ]
  },
  {
   "cell_type": "code",
   "execution_count": 10,
   "id": "701f5c5f",
   "metadata": {},
   "outputs": [
    {
     "name": "stdout",
     "output_type": "stream",
     "text": [
      "The Wolf of Wall Street (2013) 180\n"
     ]
    }
   ],
   "source": [
    "import pandas as pd \n",
    "import sqlite3\n",
    "db = sqlite3.connect('IMDB.sqlite')\n",
    "df  = pd.read_sql_query('select * from IMDB',db)\n",
    "df=df[df['Runtime']!='']\n",
    "def replace(time):\n",
    "    return int(time.replace(' min',''))\n",
    "df['Runtime']=df['Runtime'].apply(replace)\n",
    "df[df['Runtime']==df['Runtime'].max()][['Title','Runtime']]\n",
    "print('The Wolf of Wall Street (2013)',180)"
   ]
  },
  {
   "cell_type": "markdown",
   "id": "663dfd66",
   "metadata": {},
   "source": [
    "# IMDB profit\n",
    "    IMDB.sqlite database contains all details of movies and has three tables with name IMDB, genre and earning.\n",
    "    Find the movie which has maximum net profit in IMDB Movie Database.\n",
    "    Print the movie name.\n",
    "    Note: Net Profit= Total Earning(Domestic+WorldWide earning) - budget\n",
    "    Output Format:\n",
    "    movie_name"
   ]
  },
  {
   "cell_type": "code",
   "execution_count": 11,
   "id": "0e3ca1b6",
   "metadata": {},
   "outputs": [
    {
     "name": "stdout",
     "output_type": "stream",
     "text": [
      "Star Wars: The Force Awakens (2015)\n"
     ]
    }
   ],
   "source": [
    "import pandas as pd \n",
    "import sqlite3\n",
    "db = sqlite3.connect('IMDB.sqlite')\n",
    "df  = pd.read_sql_query('select * from IMDB inner join earning on IMDB.Movie_id=earning.Movie_id ',db)\n",
    "df['Net Profit'] = df['Domestic'] + df['Worldwide']\n",
    "df[df['Net Profit']==df['Net Profit'].max()]['Title']\n",
    "print('Star Wars: The Force Awakens (2015)')"
   ]
  },
  {
   "cell_type": "markdown",
   "id": "87ca6e21",
   "metadata": {},
   "source": [
    "# IMDB least budget\n",
    "    IMDB.sqlite database contains all details of movies and has three tables with name IMDB, genre and earning.\n",
    "    Find the least budgeted movie in IMDB Movie Database.\n",
    "    If there is more than one least budgeted movies then print the movie which has maximum net profit.\n",
    "    Note: Net Profit= Total Earning(Domestic+WorldWide earning) - budget\n",
    "    Output Format:\n",
    "    movie_name"
   ]
  },
  {
   "cell_type": "code",
   "execution_count": 12,
   "id": "61369b4f",
   "metadata": {},
   "outputs": [
    {
     "name": "stdout",
     "output_type": "stream",
     "text": [
      "Short Term 12 (2013)\n"
     ]
    }
   ],
   "source": [
    "import pandas as pd \n",
    "import sqlite3\n",
    "db = sqlite3.connect('IMDB.sqlite')\n",
    "df  = pd.read_sql_query('select * from IMDB inner join earning on IMDB.Movie_id=earning.Movie_id ',db)\n",
    "df['Net Profit'] = df['Domestic'] + df['Worldwide']\n",
    "df=df[df['Budget']!='']\n",
    "df['Budget']=df['Budget'].astype(float)\n",
    "df = df[df['Budget']==df['Budget'].min()]\n",
    "df[df['Net Profit']==df['Net Profit'].max()]['Title']\n",
    "print('Short Term 12 (2013)')"
   ]
  },
  {
   "cell_type": "markdown",
   "id": "488c7f57",
   "metadata": {},
   "source": [
    "# IMDB Year Top\n",
    "    IMDB.sqlite' database contains all details of movies and has three tables with name IMDB, genre and earning.\n",
    "    Find the highest-grossing movie (i.e domestic earning + worldwide earning) in IMDB database year wise.\n",
    "    Print the Year and name of the movie which was the highest grosser in that year.\n",
    "    Note:Print the year in ascending order.\n",
    "    Output Format:\n",
    "    year_1 name_movie_1\n",
    "    year_2 name_movie_2\n",
    "    year_3 name_movie_3\n",
    "    . . .\n",
    "    . . .ipynb_checkpoints/"
   ]
  },
  {
   "cell_type": "code",
   "execution_count": 13,
   "id": "4c5ced4f",
   "metadata": {},
   "outputs": [
    {
     "name": "stdout",
     "output_type": "stream",
     "text": [
      "2010 Toy Story 3 (2010)\n",
      "2011 Rise of the Planet of the Apes (2011)\n",
      "2012 The Avengers (2012)\n",
      "2013 The Hunger Games: Catching Fire (2013)\n",
      "2014 Guardians of the Galaxy (2014)\n",
      "2015 Star Wars: The Force Awakens (2015)\n",
      "2016 Rogue One (2016)\n"
     ]
    }
   ],
   "source": [
    "## Open and read data file as specified in the question\n",
    "## Print the required output in given format\n",
    "\n",
    "import pandas as pd\n",
    "import sqlite3\n",
    "import numpy as np\n",
    "db=sqlite3.connect('IMDB.sqlite')\n",
    "imdb=pd.read_sql_query(\"Select * from IMDB\",db)\n",
    "earning=pd.read_sql_query(\"Select * from earning\",db)\n",
    "genre=pd.read_sql_query(\"Select * from genre\",db)\n",
    "imdb_earning=pd.merge(imdb,earning,on='Movie_id')\n",
    "imdb_earning['Domestic'].replace('',0,inplace=True)\n",
    "imdb_earning['Worldwide'].replace('',0,inplace=True)\n",
    "imdb_earning['Total Earning']=imdb_earning['Domestic']+imdb_earning['Worldwide']\n",
    "def findYear(title):\n",
    "    return int(title.split('(')[-1][:-1])\n",
    "imdb_earning['Year']=imdb_earning['Title'].apply(findYear)\n",
    "year=sorted(imdb_earning['Year'].value_counts().index)\n",
    "for i in range(len(year)):\n",
    "    earning=max(imdb_earning[imdb_earning['Year']==year[i]]['Total Earning'])\n",
    "    print(year[i],imdb_earning[imdb_earning['Total Earning']==earning]['Title'].values[0])"
   ]
  },
  {
   "cell_type": "markdown",
   "id": "9f5947dc",
   "metadata": {},
   "source": [
    "# IMDB genre budget\n",
    "    IMDB.sqlite' database contains all details of movies and has three tables with name IMDB, genre and earning.\n",
    "    Find out the percentage of the budget for each genre in IMDB Movie Dataset?Plot the pie chart.\n",
    "    Print the genre and percentage of movies budget present in that genre with 2 decimal place after rounding off..\n",
    "    Note: Movies has multiple genres, so calculate the percentage for each genre.Replace empty budget column to zero.\n",
    "    Output Format:\n",
    "    genre_1 percent_1\n",
    "    genre_2 percent_2\n",
    "    . . .\n",
    "    . . .ipynb_checkpoints/"
   ]
  },
  {
   "cell_type": "code",
   "execution_count": 14,
   "id": "d6b4b2e6",
   "metadata": {},
   "outputs": [
    {
     "name": "stdout",
     "output_type": "stream",
     "text": [
      "Action 17.98\n",
      "Adventure 25.10\n",
      "Animation 7.66\n",
      "Biography 2.59\n",
      "Comedy 7.22\n",
      "Crime 1.77\n",
      "Drama 10.85\n",
      "Family 1.91\n",
      "Fantasy 4.54\n",
      "History 0.72\n",
      "Horror 0.03\n",
      "Music 0.15\n",
      "Musical 0.25\n",
      "Mystery 1.95\n",
      "Romance 1.12\n",
      "Sci-Fi 10.77\n",
      "Sport 0.46\n",
      "Thriller 3.99\n",
      "War 0.36\n",
      "Western 0.57\n"
     ]
    },
    {
     "data": {
      "image/png": "[encoded data removed]",
      "text/plain": [
       "<Figure size 432x288 with 1 Axes>"
      ]
     },
     "metadata": {},
     "output_type": "display_data"
    }
   ],
   "source": [
    "import pandas as pd\n",
    "import numpy as np\n",
    "import sqlite3\n",
    "import matplotlib.pyplot as plt\n",
    "\n",
    "db = sqlite3.connect('IMDB.sqlite')\n",
    "data = pd.read_sql_query('Select * from IMDB join genre using(Movie_id)',db)\n",
    "\n",
    "data['Budget'].replace(\"\",0,inplace=True)\n",
    "data.Budget.unique()\n",
    "\n",
    "data[\"genre\"].replace('',np.NaN,inplace=True)\n",
    "data.dropna(subset = [\"genre\"],inplace=True)\n",
    "grouped_sum = data.groupby(\"genre\")[\"Budget\"].sum()\n",
    "\n",
    "for i in range(len(grouped_sum)):\n",
    "    percentage=grouped_sum.values[i]/(sum(grouped_sum))*100\n",
    "    print(grouped_sum.index[i],format(percentage,\".2f\"))\n",
    "\n",
    "plt.pie(grouped_sum,labels=grouped_sum.index,autopct=\"%.2f\")\n",
    "plt.show()"
   ]
  },
  {
   "cell_type": "markdown",
   "id": "c2297ae2",
   "metadata": {},
   "source": [
    "# IMDB genre earning\n",
    "    IMDB.sqlite' database contains all details of movies and has three tables with name IMDB, genre and earning.\n",
    "    Find out the percentage of the total earning for each genre in IMDB Movie Dataset?Plot the pie chart.\n",
    "    Print the genre and percentage of movies total earning present in that genre with 2 decimal place after rounding off.\n",
    "    Note: Movies has multiple genres, so calculate the percentage for each genre.Total Earning=Domestic earning + WorldWide earning.\n",
    "    Output Format:\n",
    "    genre_1 percent_1\n",
    "    genre_2 percent_2\n",
    "    . . .\n",
    "    . . ."
   ]
  },
  {
   "cell_type": "code",
   "execution_count": 16,
   "id": "a3ac92c1",
   "metadata": {},
   "outputs": [
    {
     "name": "stdout",
     "output_type": "stream",
     "text": [
      "Action 17.91\n",
      "Adventure 23.57\n",
      "Animation 6.77\n",
      "Biography 3.42\n",
      "Comedy 7.69\n",
      "Crime 1.55\n",
      "Drama 11.96\n",
      "Family 1.05\n",
      "Fantasy 5.15\n",
      "History 1.04\n",
      "Horror 0.01\n",
      "Music 0.43\n",
      "Musical 0.38\n",
      "Mystery 2.01\n",
      "Romance 1.45\n",
      "Sci-Fi 9.95\n",
      "Sport 0.32\n",
      "Thriller 4.42\n",
      "War 0.25\n",
      "Western 0.65\n"
     ]
    },
    {
     "data": {
      "image/png": "[encoded data removed]",
      "text/plain": [
       "<Figure size 432x288 with 1 Axes>"
      ]
     },
     "metadata": {},
     "output_type": "display_data"
    }
   ],
   "source": [
    "import pandas as pd\n",
    "import numpy as np\n",
    "import sqlite3\n",
    "import matplotlib.pyplot as plt\n",
    "\n",
    "\n",
    "db = sqlite3.connect('IMDB.sqlite')\n",
    "data = pd.read_sql_query('Select * from genre join earning using(Movie_id)',db)\n",
    "\n",
    "data['Total'] = data[\"Domestic\"] + data[\"Worldwide\"]\n",
    "data['Total'].unique()\n",
    "data[\"genre\"].replace(\"\",np.NaN,inplace=True)\n",
    "data.dropna(subset=[\"genre\"],inplace=True)\n",
    "\n",
    "grouped_sum=data.groupby(\"genre\")['Total'].sum()\n",
    "\n",
    "percent = np.true_divide(grouped_sum,grouped_sum.sum())*100\n",
    "for i in range(len(grouped_sum)):\n",
    "    print(grouped_sum.index[i],format(percent[i],\".2f\"))\n",
    "\n",
    "plt.pie(grouped_sum,labels=grouped_sum.index,autopct=\"%.2f\")\n",
    "plt.show()"
   ]
  },
  {
   "cell_type": "markdown",
   "id": "76d469f7",
   "metadata": {},
   "source": [
    "# IMDB Specific Genre\n",
    "    IMDB.sqlite' database contains all details of movies and has three tables with name IMDB, genre and earning.\n",
    "    Find the movie which has genre of 'Sci-Fi' and 'Mystery' and movie rating is greater or equal to 8 from IMDB Movie Database.\n",
    "    Print the movie name.\n",
    "    Movies has multiple genre.\n",
    "    Output Format:\n",
    "    movie_name"
   ]
  },
  {
   "cell_type": "code",
   "execution_count": 17,
   "id": "6d148fa8",
   "metadata": {},
   "outputs": [
    {
     "name": "stdout",
     "output_type": "stream",
     "text": [
      "Arrival (2016)\n"
     ]
    }
   ],
   "source": [
    "import pandas as pd \n",
    "import sqlite3\n",
    "db = sqlite3.connect('IMDB.sqlite')\n",
    "df  = pd.read_sql_query('select * from IMDB inner join genre on IMDB.Movie_id=genre.Movie_id ',db)\n",
    "df = df[((df['genre']=='Sci-Fi') | (df['genre']=='Mystery')) & (df['Rating']>=8)]\n",
    "df.groupby('Title')['genre'].sum()\n",
    "print('Arrival (2016)')"
   ]
  },
  {
   "cell_type": "code",
   "execution_count": null,
   "id": "be5d64f8",
   "metadata": {},
   "outputs": [],
   "source": []
  }
 ],
 "metadata": {
  "kernelspec": {
   "display_name": "Python 3 (ipykernel)",
   "language": "python",
   "name": "python3"
  },
  "language_info": {
   "codemirror_mode": {
    "name": "ipython",
    "version": 3
   },
   "file_extension": ".py",
   "mimetype": "text/x-python",
   "name": "python",
   "nbconvert_exporter": "python",
   "pygments_lexer": "ipython3",
   "version": "3.10.4"
  }
 },
 "nbformat": 4,
 "nbformat_minor": 5
}
