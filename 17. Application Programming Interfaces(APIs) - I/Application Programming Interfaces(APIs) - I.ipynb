{
 "cells": [
  {
   "cell_type": "markdown",
   "id": "a861b690",
   "metadata": {},
   "source": [
    "# Content type\n",
    "    Print the content-type received after making a get request to url = https://codingninjas.in/api/v3/events\n",
    "    Note : content-type can be found in header information of response object.mro"
   ]
  },
  {
   "cell_type": "code",
   "execution_count": 1,
   "id": "bf96c005",
   "metadata": {},
   "outputs": [
    {
     "name": "stdout",
     "output_type": "stream",
     "text": [
      "application/json\n"
     ]
    }
   ],
   "source": [
    "import requests\n",
    "res = requests.get('https://codingninjas.in/api/v3/events')\n",
    "print(res.headers['Content-Type'])"
   ]
  },
  {
   "cell_type": "markdown",
   "id": "4d5041ff",
   "metadata": {},
   "source": [
    "# Hound sub-breeds\n",
    "    Print all sub-breeds of hound by making a get request to given URL.\n",
    "    URL : https://dog.ceo/api/breeds/list/all\n",
    "    Print name of sub-breeds in different lines.\n"
   ]
  },
  {
   "cell_type": "code",
   "execution_count": 2,
   "id": "2ea4e894",
   "metadata": {},
   "outputs": [
    {
     "name": "stdout",
     "output_type": "stream",
     "text": [
      "application/json\n"
     ]
    }
   ],
   "source": [
    "import requests\n",
    "res = requests.get('https://codingninjas.in/api/v3/events')\n",
    "print(res.headers['Content-Type'])"
   ]
  },
  {
   "cell_type": "markdown",
   "id": "fe1f9654",
   "metadata": {},
   "source": [
    "# Poodle sub breeds count\n",
    "    Print the count of total sub-breeds of poodle from this URL : https://dog.ceo/api/breeds/list/all/."
   ]
  },
  {
   "cell_type": "code",
   "execution_count": 4,
   "id": "8e69b090",
   "metadata": {},
   "outputs": [
    {
     "name": "stdout",
     "output_type": "stream",
     "text": [
      "4\n"
     ]
    }
   ],
   "source": [
    "import requests\n",
    "res = requests.get('https://dog.ceo/api/breeds/list/all/.')\n",
    "data=res.json()['message']['poodle']\n",
    "print(len(data))\n"
   ]
  },
  {
   "cell_type": "markdown",
   "id": "84d2cfca",
   "metadata": {},
   "source": [
    "# CN Online Courses\n",
    "    Print name of all online courses offered by Coding Ninjas. You can fetch the data using their open API :\n",
    "    https://api.codingninjas.com/api/v3/courses .\n",
    "\n"
   ]
  },
  {
   "cell_type": "code",
   "execution_count": 5,
   "id": "7dfe4724",
   "metadata": {},
   "outputs": [
    {
     "name": "stdout",
     "output_type": "stream",
     "text": [
      "System Design Course\n",
      "Premium Full Stack Web Development\n",
      "Premium Competitive Programming Course\n",
      "Machine Learning & Deep Learning Course\n",
      "C++ Foundation with Data Structures\n",
      "Premium Data Science Course\n",
      "Premium Android App Development\n",
      "Advanced  Front-End Web Development with React\n",
      "Premium Data structures and Algorithms [C++/Java/Python]\n",
      "Ninja Competitive Programmer Track\n",
      "Premium Machine Learning Course\n",
      "JAVA Foundation with Data Structures\n",
      "Full Stack Web Development\n",
      "Ninja Android Developer Career Track \n",
      "Interview Preparation Course\n",
      "Data Science & Machine Learning Complete\n",
      "Grokking the Operating Systems Interview\n",
      "Ninja  Web Developer Career Track - NodeJS & ReactJs\n",
      "Ninja  Web Developer Career Track - NodeJS\n",
      "Competitive Programming Course\n",
      "Python Foundation with Data Structures\n",
      "Android Development with Kotlin\n",
      "Ninja Data Scientist Career Track\n",
      "Ninja Machine Learning Engineer Career Track\n",
      "Aptitude Preparation Course\n"
     ]
    }
   ],
   "source": [
    "import requests\n",
    "res = requests.get('https://api.codingninjas.com/api/v3/courses')\n",
    "data=res.json()\n",
    "for i in data['data']['courses']:\n",
    "    print(i['name'])"
   ]
  },
  {
   "cell_type": "markdown",
   "id": "cb76c05a",
   "metadata": {},
   "source": [
    "# Workshop Events\n",
    "    Print description of first event from Coding Ninjas Events API\n",
    "    If ther are no events in this API, then print \"No Events !\"\n",
    "    Data can be fetched from this URL :\n",
    "    Coding Ninjas Events API"
   ]
  },
  {
   "cell_type": "code",
   "execution_count": 6,
   "id": "aa59d228",
   "metadata": {},
   "outputs": [
    {
     "name": "stdout",
     "output_type": "stream",
     "text": [
      "Ninjas Career Camp Entrance Test is coming up on 1st June, from 12 AM onwards\n"
     ]
    }
   ],
   "source": [
    "import requests\n",
    "res = requests.get('https://api.codingninjas.com/api/v3/events?event_category=ALL_EVENTS&event_sub_category=All%20Time%20Favorites&tag_list=&offset=0&_ga=2.111388684.962935857.1661786120-456271772.1655977586')\n",
    "data=res.json()['data']['events']\n",
    "\n",
    "if len(data)==0:\n",
    "    print('No Events !')\n",
    "else:\n",
    "    print(data[0]['short_desc'])"
   ]
  },
  {
   "cell_type": "markdown",
   "id": "a095627e",
   "metadata": {},
   "source": [
    "# Title of course\n",
    "    Print the title of course with id=19.\n",
    "    URL : http://api.codingninjas.com/api/v3/courses\n"
   ]
  },
  {
   "cell_type": "code",
   "execution_count": 8,
   "id": "71ddedb7",
   "metadata": {},
   "outputs": [
    {
     "name": "stdout",
     "output_type": "stream",
     "text": [
      "Machine Learning\n"
     ]
    }
   ],
   "source": [
    "import requests\n",
    "res = requests.get('http://api.codingninjas.com/api/v3/courses',params={'id':19})\n",
    "data=res.json()\n",
    "for i in data['data']['courses']:\n",
    "    if i['id']==19:\n",
    "        print(i['title'])\n",
    "        break"
   ]
  },
  {
   "cell_type": "markdown",
   "id": "db2486d7",
   "metadata": {},
   "source": [
    "# Total number of cities\n",
    "    Count the total number of cities of country AU from this URL : https://api.openaq.org/docs#/v2/citiesgetv2citiesget\n"
   ]
  },
  {
   "cell_type": "code",
   "execution_count": 9,
   "id": "234e84ad",
   "metadata": {},
   "outputs": [
    {
     "name": "stdout",
     "output_type": "stream",
     "text": [
      "80\n"
     ]
    }
   ],
   "source": [
    "import requests\n",
    "res = requests.get('https://api.openaq.org/v2/cities',params={'country':'AU'})\n",
    "data=res.json()\n",
    "print(len(data['results']))"
   ]
  },
  {
   "cell_type": "markdown",
   "id": "bfb97c77",
   "metadata": {},
   "source": [
    "# Cities from BE\n",
    "    Print first 5 cities from country “BE”. Fetch the result from given URL.\n",
    "    Order the results by city.\n",
    "    URL - https://api.openaq.org/v1/cities\n",
    "    Documentation - https://docs.openaq.org/\n"
   ]
  },
  {
   "cell_type": "code",
   "execution_count": 10,
   "id": "630974b8",
   "metadata": {},
   "outputs": [
    {
     "name": "stdout",
     "output_type": "stream",
     "text": [
      "Antwerpen\n",
      "Brabant wallon\n",
      "Brussels-Capital Region\n",
      "Flanders\n",
      "Hainaut\n"
     ]
    }
   ],
   "source": [
    "import requests\n",
    "res = requests.get('https://api.openaq.org/v1/cities',params={'country':'BE','limit':5})\n",
    "data=res.json()\n",
    "for i in data['results']:\n",
    "    print(i['name'])"
   ]
  },
  {
   "cell_type": "markdown",
   "id": "8f140c8c",
   "metadata": {},
   "source": [
    "# USA WOEID\n",
    "    Make an API call to -\n",
    "    https://api.openweathermap.org/data/2.5/weather\n",
    "\n",
    "    Search for \"Hyderabad\" and print weather report and Temperature.\n",
    "    please go through the document to create your API Key and Print the answer.\n",
    "    Output format:\n",
    "    <City Name >\n",
    "    Temperature: < >\n",
    "    Weather Report: < >\n",
    "    Documentation"
   ]
  },
  {
   "cell_type": "code",
   "execution_count": 12,
   "id": "1c6151a4",
   "metadata": {},
   "outputs": [
    {
     "name": "stdout",
     "output_type": "stream",
     "text": [
      "Hyderabad\n",
      "Temperature: 300.38\n",
      "Weather Report: light rain\n"
     ]
    }
   ],
   "source": [
    "import requests\n",
    "res = requests.get('https://api.openweathermap.org/data/2.5/weather',params={'q':'Hyderabad','appid':'4f37d81d3d6a55228b7a9c8b5fc77d78'})\n",
    "data=res.json()\n",
    "print(data['name'])\n",
    "print('Temperature:',data['main']['temp'])\n",
    "print('Weather Report:',data['weather'][0]['description'])\n",
    "\n"
   ]
  },
  {
   "cell_type": "markdown",
   "id": "f391a97b",
   "metadata": {},
   "source": [
    "# Holiday\n",
    "    Find name of holiday on 2nd October 2021 in country India.\n",
    "    You can read the documentation here : https://holidayapi.com/\n",
    "    API Link to be used -\n",
    "    https://holidayapi.com/v1/holidays\n",
    "\n"
   ]
  },
  {
   "cell_type": "code",
   "execution_count": 13,
   "id": "c80befd9",
   "metadata": {},
   "outputs": [
    {
     "name": "stdout",
     "output_type": "stream",
     "text": [
      "Mahatma Gandhi's Birthday\n"
     ]
    }
   ],
   "source": [
    "import requests\n",
    "res = requests.get('https://holidayapi.com/v1/holidays',params={'key':'425ddeb4-0a6f-4e75-ac1f-0bbf9f9bc512',\"country\":\"IN\",\"year\":2021,\"month\":10,\"day\":2 })\n",
    "data=res.json()\n",
    "print(data['holidays'][0]['name'])\n"
   ]
  },
  {
   "cell_type": "code",
   "execution_count": null,
   "id": "95f6187a",
   "metadata": {},
   "outputs": [],
   "source": []
  }
 ],
 "metadata": {
  "kernelspec": {
   "display_name": "Python 3 (ipykernel)",
   "language": "python",
   "name": "python3"
  },
  "language_info": {
   "codemirror_mode": {
    "name": "ipython",
    "version": 3
   },
   "file_extension": ".py",
   "mimetype": "text/x-python",
   "name": "python",
   "nbconvert_exporter": "python",
   "pygments_lexer": "ipython3",
   "version": "3.10.4"
  }
 },
 "nbformat": 4,
 "nbformat_minor": 5
}
