{
 "cells": [
  {
   "cell_type": "markdown",
   "id": "c4654660",
   "metadata": {},
   "source": [
    "# NumPy 2D array\n",
    "    Problem Statement:\n",
    "    Given a 2D list, create a numpy 2D array using it.\n",
    "    Note: Given 2D list is [[1, 2, 3], [4, 5, 6], [7, 8, 9]]\n",
    "    Print the Numpy array.\n",
    "    Output Format :\n",
    "    numpyArray"
   ]
  },
  {
   "cell_type": "code",
   "execution_count": 1,
   "id": "016982c4",
   "metadata": {},
   "outputs": [
    {
     "name": "stdout",
     "output_type": "stream",
     "text": [
      "[[1 2 3]\n",
      " [4 5 6]\n",
      " [7 8 9]]\n"
     ]
    }
   ],
   "source": [
    "## Open and read data file as specified in the question\n",
    "## Print the required output in given format\n",
    "import numpy as np\n",
    "\n",
    "ndList = [[1, 2, 3], [4, 5, 6], [7, 8, 9]]\n",
    "print(np.array(ndList))"
   ]
  },
  {
   "cell_type": "markdown",
   "id": "9a973426",
   "metadata": {},
   "source": [
    "# NumPy 0s and 1s\n",
    "    Problem Statement:\n",
    "    Create an integer array of size 10, where all the values should be 0 but the fifth value should be 1.\n",
    "    Print the elements of array.\n",
    "    Output Format :\n",
    "    element1 element2 element3 ... "
   ]
  },
  {
   "cell_type": "code",
   "execution_count": 3,
   "id": "1027c507",
   "metadata": {},
   "outputs": [
    {
     "name": "stdout",
     "output_type": "stream",
     "text": [
      "0 0 0 0 1 0 0 0 0 0 "
     ]
    }
   ],
   "source": [
    "## Open and read data file as specified in the question\n",
    "## Print the required output in given format\n",
    "\n",
    "## Print the required output in given format\n",
    "import numpy as np\n",
    "\n",
    "h=np.zeros(10,dtype=int)\n",
    "h[4]=1\n",
    "for i in h:\n",
    "    print(i,end=' ')"
   ]
  },
  {
   "cell_type": "markdown",
   "id": "9719aae4",
   "metadata": {},
   "source": [
    "# NumPy Inclusive\n",
    "    Problem Statement:\n",
    "    Create an array with values ranging consecutively from 9 to 49 (both inclusive).\n",
    "    Print the Numpy array.\n",
    "    Output Format :\n",
    "    element1 element2 element3 ..."
   ]
  },
  {
   "cell_type": "code",
   "execution_count": 4,
   "id": "8d14e301",
   "metadata": {},
   "outputs": [
    {
     "name": "stdout",
     "output_type": "stream",
     "text": [
      "9 10 11 12 13 14 15 16 17 18 19 20 21 22 23 24 25 26 27 28 29 30 31 32 33 34 35 36 37 38 39 40 41 42 43 44 45 46 47 48 49 "
     ]
    }
   ],
   "source": [
    "## Open and read data file as specified in the question\n",
    "## Print the required output in given format\n",
    "import numpy as np\n",
    "\n",
    "h=np.arange(9,50)\n",
    "for i in h:\n",
    "    print(i,end=' ')"
   ]
  },
  {
   "cell_type": "markdown",
   "id": "627cf7dd",
   "metadata": {},
   "source": [
    "# Identity Matrix\n",
    "    Problem Statement:\n",
    "    Create a matrix having diagonal elements as 1 and all other elements as 0 of size (5, 6).\n",
    "    Print the Numpy array.\n",
    "    Output Format :\n",
    "    numpyArray"
   ]
  },
  {
   "cell_type": "code",
   "execution_count": 5,
   "id": "005a3f4e",
   "metadata": {},
   "outputs": [
    {
     "name": "stdout",
     "output_type": "stream",
     "text": [
      "[[1 0 0 0 0 0]\n",
      " [0 1 0 0 0 0]\n",
      " [0 0 1 0 0 0]\n",
      " [0 0 0 1 0 0]\n",
      " [0 0 0 0 1 0]]\n"
     ]
    }
   ],
   "source": [
    "## Open and read data file as specified in the question\n",
    "## Print the required output in given format\n",
    "import numpy as np\n",
    "\n",
    "h=np.eye(5,6,dtype=int)\n",
    "\n",
    "print(h)"
   ]
  },
  {
   "cell_type": "markdown",
   "id": "e8fda594",
   "metadata": {},
   "source": [
    "# Cut the Rope\n",
    "    Problem Statement:\n",
    "    You are given a rope of length 5m. Cut the rope into 9 parts such that each part is of equal length.\n",
    "    Note:Array elements are the points where cut is to be made and round upto 2 decimal place.\n",
    "    Print the array element.\n",
    "    Output Format :\n",
    "    element1 \n",
    "    element2 \n",
    "    element3\n",
    "    .\n",
    "    .ipynb_checkpoints/"
   ]
  },
  {
   "cell_type": "code",
   "execution_count": 6,
   "id": "0e9c23d5",
   "metadata": {},
   "outputs": [
    {
     "name": "stdout",
     "output_type": "stream",
     "text": [
      "0.56\n",
      "1.11\n",
      "1.67\n",
      "2.22\n",
      "2.78\n",
      "3.33\n",
      "3.89\n",
      "4.44\n"
     ]
    }
   ],
   "source": [
    "## Open and read data file as specified in the question\n",
    "## Print the required output in given format\n",
    "import numpy as np\n",
    "a = np.linspace(0,5,10)[1:9]\n",
    "for i in a:\n",
    "    print(round(i,2))\n"
   ]
  },
  {
   "cell_type": "markdown",
   "id": "20323810",
   "metadata": {},
   "source": [
    "# Print Elements\n",
    "    Given a 2D integer array size (4, 5) with name input_?\n",
    "    Print elements of highlighted matrix\n",
    "    Output Format :\n",
    "    element1 element2 element3 . . .\n",
    "    element1 element2 element3 . . .\n",
    "    element1 element2 element3 . . .\n",
    "    element1 element2 element3 . . .ipynb_checkpoints/"
   ]
  },
  {
   "cell_type": "code",
   "execution_count": 7,
   "id": "28ccdf38",
   "metadata": {},
   "outputs": [
    {
     "name": "stdout",
     "output_type": "stream",
     "text": [
      "11 12 13 \n",
      "9 14 19 \n",
      "11 12 13 14 15 16 17 18 19 20 \n",
      "7 8 12 13 "
     ]
    }
   ],
   "source": [
    "## Open and read data file as specified in the question\n",
    "## Print the required output in given format\n",
    "import numpy as np\n",
    "input_=np.arange(1,21,1)\n",
    "input_=input_.reshape(4,5)\n",
    "for i in input_[2,:3]:\n",
    "    print(i,end=' ')\n",
    "print()\n",
    "for i in input_[1:,3]:\n",
    "    print(i,end=' ')\n",
    "print()\n",
    "for i in input_[2:]:\n",
    "    for j in i:\n",
    "        print(j,end=' ')\n",
    "print()\n",
    "for i in input_[1:3,1:3]:\n",
    "    for j in i:\n",
    "        print(j,end=' ')\n"
   ]
  },
  {
   "cell_type": "markdown",
   "id": "de1adef0",
   "metadata": {},
   "source": [
    "# Non-Zero elements\n",
    "    Problem Statemnt:\n",
    "    Find indices of non-zero elements from the array [1,2,0,0,4,0] ?\n",
    "    Print the index of non-zero elements.\n",
    "    Output Format :\n",
    "    index1 index2 index3 ... \n"
   ]
  },
  {
   "cell_type": "code",
   "execution_count": 8,
   "id": "7a89d9aa",
   "metadata": {},
   "outputs": [
    {
     "name": "stdout",
     "output_type": "stream",
     "text": [
      "0 1 4 "
     ]
    }
   ],
   "source": [
    "## Open and read data file as specified in the question\n",
    "## Print the required output in given format\n",
    "\n",
    "import numpy as np\n",
    "a=[1,2,0,0,4,0]\n",
    "for i in np.nonzero(a)[0]:\n",
    "    print(i,end=' ')\n"
   ]
  },
  {
   "cell_type": "markdown",
   "id": "96711100",
   "metadata": {},
   "source": [
    "# Multiples of 3\n",
    "    Problem Statement:\n",
    "    Given an integer array of size 10. Print the index of elements which are multiple of 3.\n",
    "    Note: Generate the following array\n",
    "    array([ 1,  3,  5,  7,  9, 11, 13, 15, 17, 19])\n",
    "    Print the index of elements.\n",
    "    Output Format :\n",
    "    index1 index2 index3 ... "
   ]
  },
  {
   "cell_type": "code",
   "execution_count": 9,
   "id": "824b305d",
   "metadata": {},
   "outputs": [
    {
     "name": "stdout",
     "output_type": "stream",
     "text": [
      "1 4 7 "
     ]
    }
   ],
   "source": [
    "## Open and read data file as specified in the question\n",
    "## Print the required output in given format\n",
    "\n",
    "import numpy as np\n",
    "\n",
    "arr=np.array([ 1,  3,  5,  7,  9, 11, 13, 15, 17, 19])\n",
    "for i in np.where(arr % 3 == 0)[0]:\n",
    "    print(i,end=' ')"
   ]
  },
  {
   "cell_type": "markdown",
   "id": "c56ede1a",
   "metadata": {},
   "source": [
    "# Odd elements\n",
    "    Problem Statemnt:\n",
    "    Given an integer array of size 10. Replace the odd number in numpy array with -1 ?\n",
    "    Note: Generate the following array\n",
    "    array([1, 2, 3, 4, 5, 6, 7, 8, 9, 10])\n",
    "    Print the Numpy array.\n",
    "    Output Format :\n",
    "    firstElement secondElement  ... "
   ]
  },
  {
   "cell_type": "code",
   "execution_count": 12,
   "id": "e644efb6",
   "metadata": {},
   "outputs": [
    {
     "name": "stdout",
     "output_type": "stream",
     "text": [
      "-1 2 -1 4 -1 6 -1 8 -1 10 "
     ]
    }
   ],
   "source": [
    "## Open and read data file as specified in the question\n",
    "## Print the required output in given format\n",
    "\n",
    "import numpy as np\n",
    "\n",
    "arr=np.array([1, 2, 3, 4, 5, 6, 7, 8, 9, 10])\n",
    "arr[arr%2!=0]=-1\n",
    "for i in arr:\n",
    "    print(i,end=' ')\n",
    "    "
   ]
  },
  {
   "cell_type": "markdown",
   "id": "8d93f493",
   "metadata": {},
   "source": [
    "# Replace Max\n",
    "    Problem Statemnt:\n",
    "    Given an integer array of size 9 and replace the first occurrence of maximum value by 0?\n",
    "    Note: Generate the following array\n",
    "    array([11, 2, 13, 4, 15, 6, 27, 8, 19])\n",
    "    Print the Numpy array.\n",
    "    Output Format :\n",
    "    firstElement\n",
    "    secondElement \n",
    "    ... \n"
   ]
  },
  {
   "cell_type": "code",
   "execution_count": 13,
   "id": "b74db777",
   "metadata": {},
   "outputs": [
    {
     "name": "stdout",
     "output_type": "stream",
     "text": [
      "11\n",
      "2\n",
      "13\n",
      "4\n",
      "15\n",
      "6\n",
      "0\n",
      "8\n",
      "19\n"
     ]
    }
   ],
   "source": [
    "## Open and read data file as specified in the question\n",
    "## Print the required output in given format\n",
    "import numpy as np\n",
    "arr=np.array([11, 2, 13, 4, 15, 6, 27, 8, 19])\n",
    "arr[np.argmax(arr)]=0\n",
    "for i in arr:\n",
    "    print(i)"
   ]
  },
  {
   "cell_type": "markdown",
   "id": "d006ee83",
   "metadata": {},
   "source": [
    "# Negate Elements\n",
    "    Problem Statemnt:\n",
    "    Given a 1D array, negate all elements which are between 3 and 8 (both inclusive)?\n",
    "    Note: Generate the following array\n",
    "    array([1, 2, 3, 4, 5, 6, 7, 8, 9, 10])\n",
    "    Print the Numpy array.\n",
    "    Output Format :\n",
    "    firstElement \n",
    "    secondElement  \n",
    "    ... "
   ]
  },
  {
   "cell_type": "code",
   "execution_count": 14,
   "id": "06a178aa",
   "metadata": {},
   "outputs": [
    {
     "name": "stdout",
     "output_type": "stream",
     "text": [
      "1\n",
      "2\n",
      "-3\n",
      "-4\n",
      "-5\n",
      "-6\n",
      "-7\n",
      "-8\n",
      "9\n",
      "10\n"
     ]
    }
   ],
   "source": [
    "## Open and read data file as specified in the question\n",
    "## Print the required output in given format\n",
    "\n",
    "import numpy as np\n",
    "arr=np.array([1, 2, 3, 4, 5, 6, 7, 8, 9, 10])\n",
    "arr[(arr>=3)&(arr<=8)]*=-1\n",
    "for i in arr:\n",
    "    print(i)"
   ]
  },
  {
   "cell_type": "markdown",
   "id": "eafe4a89",
   "metadata": {},
   "source": [
    "# Height\n",
    "    Problem Statemnt:\n",
    "    Given age and height of 20 students in two different numpy arrays with name age and height (in cms). Print the age of those students whose height is above 155 cm.\n",
    "    Print the Numpy array.\n",
    "    Output Format :\n",
    "    age1 height1 \n",
    "    age2 height2 \n",
    "    ... \n"
   ]
  },
  {
   "cell_type": "code",
   "execution_count": 15,
   "id": "4c6355ef",
   "metadata": {},
   "outputs": [
    {
     "name": "stdout",
     "output_type": "stream",
     "text": [
      "15 156\n",
      "19 180\n",
      "20 162\n",
      "21 157\n",
      "22 158\n",
      "23 179\n",
      "16 182\n",
      "18 183\n",
      "20 159\n",
      "15 160\n",
      "17 172\n"
     ]
    }
   ],
   "source": [
    "## Open and read data file as specified in the question\n",
    "## Print the required output in given format\n",
    "import numpy as np\n",
    "age=np.array([15,17,19,20,14,21,16,19,13,20,22,23,21,16,18,19,20,15,17,18])\n",
    "height=np.array([156,144,180,162,152,157,154,155,151,150,158,179,126,182,183,154,159,160,172,149])\n",
    "\n",
    "np_age=age[height>155]\n",
    "np_heigth=height[height>155]\n",
    "\n",
    "for i in range(len(np_heigth)):\n",
    "    print(np_age[i],np_heigth[i])\n"
   ]
  },
  {
   "cell_type": "markdown",
   "id": "523b594c",
   "metadata": {},
   "source": [
    "# Sort by column\n",
    "    Problem Statemnt:\n",
    "    Sort a given 2D array of shape (4, 5) by 2nd column (i.e. column at index 1) in ascending order.\n",
    "    That means, we should re-arrange complete row based on 2nd columns' values.\n",
    "    Given 2D array is:\n",
    "     [[21 20 19 18 17]\n",
    "      [16 15 14 13 12]\n",
    "      [11 10  9  8  7]\n",
    "      [ 6  5  4  3  2]]\n",
    "    Print the 2D array in sorted order.\n",
    "    Note you have to generate the 2D Array.Here 2nd column means column present at index 1.\n",
    "    Output Format :\n",
    "    [[ 6  5  4  3  2]\n",
    "    [11 10  9  8  7]\n",
    "    [16 15 14 13 12]\n",
    "    [21 20 19 18 17]]"
   ]
  },
  {
   "cell_type": "code",
   "execution_count": 17,
   "id": "626ee693",
   "metadata": {},
   "outputs": [
    {
     "name": "stdout",
     "output_type": "stream",
     "text": [
      "[[ 6  5  4  3  2]\n",
      " [11 10  9  8  7]\n",
      " [16 15 14 13 12]\n",
      " [21 20 19 18 17]]\n"
     ]
    }
   ],
   "source": [
    "## Open and read data file as specified in the question\n",
    "## Print the required output in given format\n",
    "import numpy as np\n",
    "\n",
    "\n",
    "arr=np.array([[21 ,20, 19, 18, 17],\n",
    "                [16, 15, 14, 13, 12],\n",
    "                [11 ,10 , 9 , 8 , 7],\n",
    "                [ 6 , 5 , 4  ,3 , 2]])\n",
    "\n",
    "print(np.sort(arr,axis=0))\n",
    "\n"
   ]
  },
  {
   "cell_type": "markdown",
   "id": "ddd6ff35",
   "metadata": {},
   "source": [
    "# Killed in USA\n",
    "    Given file \"terrorismData.csv\"\n",
    "    It is an open-source database including information on terrorist attacks around the world from 1970 through 2017. This dataset includes systematic data on domestic as well as international terrorist incidents that have occurred during this time period\n",
    "    Problem Statement :\n",
    "    Find value of killed column only where country == ‘United States’?\n",
    "    Print 0 in place of missing values.\n",
    "    Print count of Killed as integer value.\n",
    "    Output Format :\n",
    "    Killed1\n",
    "    Killed2\n",
    "    Killed3\n",
    "    Killed4\n",
    "    . . .\n",
    "    . . .\n",
    "    . . .ipynb_checkpoints/"
   ]
  },
  {
   "cell_type": "code",
   "execution_count": null,
   "id": "25e1bf2c",
   "metadata": {},
   "outputs": [],
   "source": [
    "import numpy as np\n",
    "import csv\n",
    "\n",
    "file=open(\"terrorismData.csv\")\n",
    "data=csv.DictReader(file,skipinitialspace=True)\n",
    "killed=[]\n",
    "country=[]\n",
    "\n",
    "for row in data:\n",
    "    killed.append(row['Killed'])\n",
    "    country.append(row['Country'])\n",
    "    \n",
    "np_killed=np.array(killed)\n",
    "np_killed[np_killed=='']='0.0'\n",
    "\n",
    "np_killed=np.array(np_killed,dtype=float)\n",
    "np_country=np.array(country)\n",
    "b=np_country=='United States'\n",
    "ans=np_killed[b]\n",
    "\n",
    "for i in ans:\n",
    "    print(int(i))"
   ]
  },
  {
   "cell_type": "markdown",
   "id": "a2b5ffe3",
   "metadata": {},
   "source": [
    "# Total Killed in USA\n",
    "    Given file \"terrorismData.csv\"\n",
    "    It is an open-source database including information on terrorist attacks around the world from 1970 through 2017. This dataset includes systematic data on domestic as well as international terrorist incidents that have occurred during this time period\n",
    "    Problem Statement :\n",
    "    Find total number of people killed from USA?\n",
    "    Note: Some columns of killed are empty so replace them by 0.\n",
    "    Print count of Killed as integer value.\n",
    "    Output Format :\n",
    "    TotalKilled"
   ]
  },
  {
   "cell_type": "code",
   "execution_count": 25,
   "id": "45a0caf9",
   "metadata": {},
   "outputs": [],
   "source": [
    "import numpy as np\n",
    "import csv\n",
    "\n",
    "file=open(\"terrorismData.csv\")\n",
    "data=csv.DictReader(file,skipinitialspace=True)\n",
    "killed=[]\n",
    "country=[]\n",
    "\n",
    "for row in data:\n",
    "    killed.append(row['Killed'])\n",
    "    country.append(row['Country'])\n",
    "    \n",
    "np_killed=np.array(killed)\n",
    "np_killed[np_killed=='']='0.0'\n",
    "\n",
    "np_killed=np.array(np_killed,dtype=float)\n",
    "np_country=np.array(country)\n",
    "b=np_country=='United States'\n",
    "ans=np_killed[b]\n",
    "\n",
    "print(int(np.sum(ans)))"
   ]
  },
  {
   "cell_type": "markdown",
   "id": "aae22928",
   "metadata": {},
   "source": [
    "# Terrorism Day\n",
    "    Given file \"terrorismData.csv\"\n",
    "    It is an open-source database including information on terrorist attacks around the world from 1970 through 2017. This dataset includes systematic data on domestic as well as international terrorist incidents that have occurred during this time period\n",
    "    Problem Statement :\n",
    "    Find the number of attack held between day 10 and day 20?(ignoring the year and month)(including both day)\n",
    "    Print count of NumberOFAttack as integer value.\n",
    "    Output Format :\n",
    "    country"
   ]
  },
  {
   "cell_type": "code",
   "execution_count": null,
   "id": "d80c4fde",
   "metadata": {},
   "outputs": [],
   "source": [
    "import numpy as np\n",
    "import csv\n",
    "\n",
    "file=open(\"terrorismData.csv\")\n",
    "data=csv.DictReader(file,skipinitialspace=True)\n",
    "Day=[]\n",
    "\n",
    "for row in data:\n",
    "    Day.append(row['Day'])\n",
    "    \n",
    "np_Day=np.array(Day,dtype=int)\n",
    "np_bool =(np_Day>=10) &(np_Day<=20)\n",
    "\n",
    "print(np.sum(np_bool))"
   ]
  },
  {
   "cell_type": "markdown",
   "id": "05035741",
   "metadata": {},
   "source": [
    "# Terrorism Date\n",
    "    Given file \"terrorismData.csv\"\n",
    "    It is an open-source database including information on terrorist attacks around the world from 1970 through 2017. This dataset includes systematic data on domestic as well as international terrorist incidents that have occurred during this time period\n",
    "    Problem Statement :\n",
    "    Find the number of attack held between 1 Jan 2010 and 31 Jan 2010?(including both date).\n",
    "    Note Ignore the case where day is 0\n",
    "    Print count of NumberOFAttack as integer value.\n",
    "    Output Format :\n",
    "    count\n"
   ]
  },
  {
   "cell_type": "code",
   "execution_count": null,
   "id": "2cb11967",
   "metadata": {},
   "outputs": [],
   "source": [
    "import numpy as np\n",
    "import csv\n",
    "\n",
    "file=open(\"terrorismData.csv\")\n",
    "data=csv.DictReader(file,skipinitialspace=True)\n",
    "Day=[]\n",
    "Month=[]\n",
    "Year=[]\n",
    "\n",
    "for row in data:\n",
    "    Day.append(row['Day'])\n",
    "    Month.append(row['Month'])\n",
    "    Year.append(row['Year'])\n",
    "    \n",
    "np_Day=np.array(Day,dtype=int)\n",
    "np_Month=np.array(Month,dtype=int)\n",
    "np_Year=np.array(Year,dtype=int)\n",
    "\n",
    "np_bool =(np_Day>=1) &(np_Day<=31) & (np_Year==2010) &(np_Month==1)\n",
    "\n",
    "print(np.sum(np_bool))"
   ]
  },
  {
   "cell_type": "markdown",
   "id": "f304e05d",
   "metadata": {},
   "source": [
    "# Terror Casualty Attack\n",
    "    Given file \"terrorismData.csv\"\n",
    "    It is an open-source database including information on terrorist attacks around the world from 1970 through 2017. This dataset includes systematic data on domestic as well as international terrorist incidents that have occurred during this time period\n",
    "    Problem Statement :\n",
    "    As we knew the Kargil ( in Jammu and Kashmir) War that took place between May 1999 and July 1999 (3 Months) ,so there was a huge conflict in Kashmir Valley during this period.\n",
    "    In this dataset, there is no information regarding the war between the two countries to find out the casualty during the war.\n",
    "    So find out the attack in this period in which maximum casualties happened.\n",
    "    Print the count of casualties (as integer), city in which that attack happened and name of attack group.\n",
    "    Note : Casualty = Killed + Wounded.Fill the empty value in killed or wounded feature to 0.\n",
    "    Output Format :\n",
    "    Casualty City TerroristGroup"
   ]
  },
  {
   "cell_type": "code",
   "execution_count": null,
   "id": "d733a6ad",
   "metadata": {},
   "outputs": [],
   "source": [
    "\n",
    "\n",
    "\n",
    "# Open and read data file as specified in the question\n",
    "# Print the required output in given format\n",
    "import numpy as np\n",
    "import csv\n",
    "with open('terrorismData.csv', encoding = \"utf-8\") as file_obj:\n",
    "    file_data=csv.DictReader(file_obj,skipinitialspace=True)\n",
    "    wounded=[]\n",
    "    killed=[]\n",
    "    grp=[]\n",
    "    city=[]\n",
    "    for row in file_data:\n",
    "        if row['Year']=='1999':\n",
    "             if row[\"Month\"]==\"5\" or row[\"Month\"]==\"6\" or row[\"Month\"]==\"7\":\n",
    "                    if row['State']=='Jammu and Kashmir':\n",
    "                            if \"Unknown\" not in row[\"City\"]:\n",
    "                                if \"Unknown\" not in row[\"Group\"]:\n",
    "                                    killed.append(row['Killed'])\n",
    "                                    wounded.append(row['Wounded'])\n",
    "                                    city.append(row['City'])\n",
    "                                    grp.append(row['Group'])\n",
    "killed = np.array(killed)\n",
    "wounded = np.array(wounded)\n",
    "city = np.array(city)\n",
    "grp=np.array(grp)\n",
    " \n",
    "killed[killed == \"\"] = \"0.0\"\n",
    "wounded[wounded == \"\"] = \"0.0\"\n",
    "killed = np.array(killed, dtype = float)\n",
    "wounded = np.array(wounded, dtype = float)\n",
    "# taking sum and then printing the required values\n",
    "casualty = (killed + wounded)\n",
    "max_casualty = (int)(casualty.max())\n",
    "# getting the INDEX of max casualty, this is for putting the required index in city and group\n",
    "max_casualty_arg = casualty.argmax()\n",
    "print(max_casualty,city[max_casualty_arg],grp[max_casualty_arg])\n"
   ]
  },
  {
   "cell_type": "markdown",
   "id": "7ac43545",
   "metadata": {},
   "source": [
    "# Terror Casualty Red\n",
    "    Given file \"terrorismData.csv\"\n",
    "    It is an open-source database including information on terrorist attacks around the world from 1970 through 2017. This dataset includes systematic data on domestic as well as international terrorist incidents that have occurred during this time period\n",
    "    Problem Statement :\n",
    "    Find the casualty in the Red Corridor States ? Mainly Red corridor states include Jharkhand, Odisha, Andhra Pradesh, and Chhattisgarh.\n",
    "    Note: Casualty=Killed +Wounded\n",
    "    Print count of Casualty as integer value.\n",
    "    Output Format :\n",
    "    Count\n"
   ]
  },
  {
   "cell_type": "code",
   "execution_count": null,
   "id": "6fdec16c",
   "metadata": {},
   "outputs": [],
   "source": [
    "import numpy as np\n",
    "import csv\n",
    "\n",
    "file=open(\"terrorismData.csv\")\n",
    "data=csv.DictReader(file,skipinitialspace=True)\n",
    "State=[]\n",
    "Killed=[]\n",
    "Wounded=[]\n",
    "\n",
    "\n",
    "for row in data:\n",
    "    State.append(row['State'])\n",
    "    Killed.append(row['Killed'])\n",
    "    Wounded.append(row['Wounded'])\n",
    "    \n",
    "np_killed=np.array(Killed)\n",
    "np_killed[np_killed=='']='0.0'\n",
    "np_killed=np.array(np_killed,dtype=float)\n",
    "\n",
    "np_Wounded=np.array(Wounded)\n",
    "np_Wounded[np_Wounded=='']='0.0'\n",
    "np_Wounded=np.array(np_Wounded,dtype=float)\n",
    "\n",
    "Casualty = np.array(np_killed+np_Wounded,dtype=int)\n",
    "    \n",
    "np_State=np.array(State)    \n",
    "\n",
    "np_bool =(np_State =='Jharkhand') | (np_State=='Odisha') |(np_State=='Andhra Pradesh')|(np_State=='Chhattisgarh')\n",
    "\n",
    "print(sum(Casualty[np_bool]))"
   ]
  },
  {
   "cell_type": "markdown",
   "id": "018a2dbc",
   "metadata": {},
   "source": [
    "# Terror City Casualty\n",
    "    Given file \"terrorismData.csv\"\n",
    "    It is an open-source database including information on terrorist attacks around the world from 1970 through 2017. This dataset includes systematic data on domestic as well as international terrorist incidents that have occurred during this time period\n",
    "    Problem Statement :\n",
    "    Find top 5 Indian Cities which has most number of casualties ?\n",
    "    Print top 5 cities along with total casualties in that city. Print count of Casualty as integer value.\n",
    "    Note: Ignoring the City which is Unknown.\n",
    "    Casualty = Killed + Wounded.\n",
    "    Output Format :\n",
    "    city_1 casualty_1\n",
    "    city_2 casualty_2\n",
    "    city_3 casualty_3\n",
    "    city_4 casualty_4\n",
    "    city_5 casualty_5"
   ]
  },
  {
   "cell_type": "code",
   "execution_count": 28,
   "id": "d01a512a",
   "metadata": {},
   "outputs": [
    {
     "name": "stdout",
     "output_type": "stream",
     "text": [
      "Srinagar 3134\n",
      "New Delhi 2095\n",
      "Mumbai 2016\n",
      "Jammu 1119\n",
      "Guwahati 822\n"
     ]
    }
   ],
   "source": [
    "import numpy as np\n",
    "import csv\n",
    "\n",
    "with open('terrorismData.csv', encoding='utf8') as file_obj:\n",
    "    file_data=csv.DictReader(file_obj, skipinitialspace=True)\n",
    "    killed=[]\n",
    "    wounded=[]\n",
    "    city=[]\n",
    "    for row in file_data:\n",
    "        if 'India' in row['Country'] and 'Unknown' not in row['City']:\n",
    "            city.append(row['City'])\n",
    "            wounded.append(row['Wounded'])\n",
    "            killed.append(row['Killed'])\n",
    "    np_wounded=np.array(wounded)\n",
    "    np_killed=np.array(killed)\n",
    "    np_city=np.array(city)\n",
    "    \n",
    "    np_killed[np_killed=='']='0.0'\n",
    "    np_wounded[np_wounded=='']='0.0'\n",
    "    np_killed=np.array(np_killed, dtype='float')\n",
    "    np_wounded=np.array(np_wounded, dtype='float')\n",
    "    np_casuality=np.array(np_wounded+np_killed, dtype='int')\n",
    "    citydic={}\n",
    "    for i in range(len(np_city)):\n",
    "        if np_city[i] in citydic:\n",
    "            citydic[np_city[i]]+=np_casuality[i]\n",
    "        else:\n",
    "            citydic[np_city[i]]=np_casuality[i]\n",
    "    \n",
    "    count=0\n",
    "    city=''\n",
    "    for i in citydic:\n",
    "        if citydic[i]>count:\n",
    "            count=citydic[i]\n",
    "            city=i\n",
    "    print(city, count)\n",
    "    del citydic[city]\n",
    "    \n",
    "    count=0\n",
    "    city=''\n",
    "    for i in citydic:\n",
    "        if citydic[i]>count:\n",
    "            count=citydic[i]\n",
    "            city=i\n",
    "    print(city, count)\n",
    "    del citydic[city]\n",
    "    \n",
    "    count=0\n",
    "    city=''\n",
    "    for i in citydic:\n",
    "        if citydic[i]>count:\n",
    "            count=citydic[i]\n",
    "            city=i\n",
    "    print(city, count)\n",
    "    del citydic[city]\n",
    "    \n",
    "    count=0\n",
    "    city=''\n",
    "    for i in citydic:\n",
    "        if citydic[i]>count:\n",
    "            count=citydic[i]\n",
    "            city=i\n",
    "    print(city, count)\n",
    "    del citydic[city]\n",
    "    \n",
    "    count=0\n",
    "    city=''\n",
    "    for i in citydic:\n",
    "        if citydic[i]>count:\n",
    "            count=citydic[i]\n",
    "            city=i\n",
    "    print(city, count)\n",
    "    del citydic[city]\n"
   ]
  },
  {
   "cell_type": "markdown",
   "id": "bfcfdbec",
   "metadata": {},
   "source": [
    "# Terrorism FrequentDay\n",
    "    Given file \"terrorismData.csv\"\n",
    "    It is an open-source database including information on terrorist attacks around the world from 1970 through 2017. This dataset includes systematic data on domestic as well as international terrorist incidents that have occurred during this time period\n",
    "    Problem Statement :\n",
    "    Find the most frequent day of attack in a terrorismDataset ?\n",
    "    Note: Here np.unique can be used.\n",
    "    Print count of frequent day and number of attack as Integer value.\n",
    "    Output Format :\n",
    "    Day NumberOFAttack\n"
   ]
  },
  {
   "cell_type": "code",
   "execution_count": 27,
   "id": "cbb0bd20",
   "metadata": {},
   "outputs": [
    {
     "name": "stdout",
     "output_type": "stream",
     "text": [
      "15 6500\n"
     ]
    }
   ],
   "source": [
    "## Open and read data file as specified in the question\n",
    "## Print the required output in given format\n",
    "\n",
    "import numpy as np\n",
    "import csv\n",
    "\n",
    "with open('terrorismData.csv', encoding='utf8') as file_obj:\n",
    "    file_data=csv.DictReader(file_obj, skipinitialspace=True)\n",
    "    \n",
    "    day=[]\n",
    "    for row in file_data:\n",
    "        day.append(row['Day'])\n",
    "    np_day=np.array(day, dtype='int')\n",
    "    day, count=np.unique(np_day, return_counts=True)\n",
    "    print(day[np.argmax(count)], count[np.argmax(count)])"
   ]
  }
 ],
 "metadata": {
  "kernelspec": {
   "display_name": "Python 3 (ipykernel)",
   "language": "python",
   "name": "python3"
  },
  "language_info": {
   "codemirror_mode": {
    "name": "ipython",
    "version": 3
   },
   "file_extension": ".py",
   "mimetype": "text/x-python",
   "name": "python",
   "nbconvert_exporter": "python",
   "pygments_lexer": "ipython3",
   "version": "3.10.4"
  }
 },
 "nbformat": 4,
 "nbformat_minor": 5
}
