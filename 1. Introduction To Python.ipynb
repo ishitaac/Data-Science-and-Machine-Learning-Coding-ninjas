{
 "cells": [
  {
   "cell_type": "markdown",
   "id": "9b4b123a",
   "metadata": {},
   "source": [
    "# Find average Marks\n",
    "    Write a program to input marks of three tests of a student (all integers). Then calculate and print the average of all test marks.\n",
    "    Input format :\n",
    "    3 Test marks (in different lines)\n",
    "    Output format :\n",
    "    Average \n",
    "    Sample Input 1 :\n",
    "    3 \n",
    "    4 \n",
    "    6\n",
    "    Sample Output 1 :\n",
    "    4.333333333333333\n",
    "    Sample Input 2 :\n",
    "    5 \n",
    "    10 \n",
    "    5\n",
    "    Sample Output 2 :\n",
    "    6.666666666666667"
   ]
  },
  {
   "cell_type": "code",
   "execution_count": 2,
   "id": "4eb67f99",
   "metadata": {},
   "outputs": [],
   "source": [
    "# Read input as sepcified in the question\n",
    "# Print output as specified in the question\n",
    "\n",
    "test1 = int(input())\n",
    "test2 = int(input())\n",
    "test3 = int(input())\n",
    "print((test1+test2+test3)/3)\n"
   ]
  },
  {
   "cell_type": "markdown",
   "id": "48478b88",
   "metadata": {},
   "source": [
    "# Find X raised to power N\n",
    "    You are given two integers: X and N. You have to calculate X raised to power N and print it.\n",
    "    Input format:\n",
    "    The first line of input contains an integer X (1 <= X <= 100)\n",
    "    The second line of input contains an integer N (1 <= N <= 10) \n",
    "    Constraints:\n",
    "    Time Limit: 1 second\n",
    "    Output format:\n",
    "    The first and only line of output contains the result.  \n",
    "    Sample Input:\n",
    "    10\n",
    "    4\n",
    "    Sample Output:\n",
    "    10000    "
   ]
  },
  {
   "cell_type": "code",
   "execution_count": null,
   "id": "28a7c57e",
   "metadata": {},
   "outputs": [],
   "source": [
    "# Write your code here\n",
    "x = int(input())\n",
    "n = int(input())\n",
    "\n",
    "print(x**n)"
   ]
  },
  {
   "cell_type": "markdown",
   "id": "c5566d14",
   "metadata": {},
   "source": [
    "# Arithmetic Progression\n",
    "    You are given first three entries of an arithmetic progression. You have to calculate the common difference and print it.\n",
    "    Input format:\n",
    "    The first line of input contains an integer a (1 <= a <= 100)\n",
    "    The second line of input contains an integer b (1 <= b <= 100) \n",
    "    The third line of input contains an integer c (1 <= c <= 100) \n",
    "    Constraints:\n",
    "    Time Limit: 1 second\n",
    "    Output format:\n",
    "    The first and only line of output contains the result.  \n",
    "    Sample Input:\n",
    "    1\n",
    "    3\n",
    "    5\n",
    "    Sample Output:\n",
    "    2"
   ]
  },
  {
   "cell_type": "code",
   "execution_count": null,
   "id": "17f06341",
   "metadata": {},
   "outputs": [],
   "source": [
    "# Write your code here\n",
    "\n",
    "a = int(input())\n",
    "b = int(input())\n",
    "c = int(input())\n",
    "\n",
    "print(b-a)"
   ]
  },
  {
   "cell_type": "markdown",
   "id": "6cbba0c1",
   "metadata": {},
   "source": [
    "# Rectangular Area\n",
    "    You are given a rectangle in a plane. The coordinates of one of its diagonals are provided to you. You have to print the total area of the rectangle.\n",
    "    The coordinates of the rectangle are provided as four integral values: x1, y1, x2, y2. It is given that x1 < x2 and y1 < y2.\n",
    "\n",
    "\n",
    "    Input format:\n",
    "    The first line of input contains an integer x1 \n",
    "    The second line of input contains an integer y1  \n",
    "    The third line of input contains an integer x2 \n",
    "    The fourth line of input contains an integer y2 \n",
    "    Constraints:\n",
    "    1 <= x1 <= 10\n",
    "    1 <= y1 <= 10\n",
    "    1 <= x2 <= 10\n",
    "    1 <= y2 <= 10 \n",
    "    Time Limit: 1 second\n",
    "    Output format:\n",
    "    The first and only line of output contains the result.  \n",
    "    Sample Input:\n",
    "    1\n",
    "    1\n",
    "    3\n",
    "    3\n",
    "    Sample Output:\n",
    "    4\n",
    "    Explanation:\n",
    "    The given coordinates of the diagonal are (x1,y1) = (1,1) and (x2,y2) = (3, 3). \n",
    "    The area of the rectangle can then easily be calculated as: \n",
    "    (3 – 1) * ( 3 – 1) = 2 * 2 = 4 "
   ]
  },
  {
   "cell_type": "code",
   "execution_count": null,
   "id": "cca61616",
   "metadata": {},
   "outputs": [],
   "source": [
    "# Write your code here\n",
    "x1 = int(input())\n",
    "y1 = int(input())\n",
    "x2 = int(input())\n",
    "y2 = int(input())\n",
    "print((x2-x1)*(y2-y1))"
   ]
  }
 ],
 "metadata": {
  "kernelspec": {
   "display_name": "Python 3 (ipykernel)",
   "language": "python",
   "name": "python3"
  },
  "language_info": {
   "codemirror_mode": {
    "name": "ipython",
    "version": 3
   },
   "file_extension": ".py",
   "mimetype": "text/x-python",
   "name": "python",
   "nbconvert_exporter": "python",
   "pygments_lexer": "ipython3",
   "version": "3.10.4"
  }
 },
 "nbformat": 4,
 "nbformat_minor": 5
}
