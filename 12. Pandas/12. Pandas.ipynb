{
 "cells": [
  {
   "cell_type": "markdown",
   "id": "a408a3b7",
   "metadata": {},
   "source": [
    "# Count of Flower\n",
    "    Problem Statement\n",
    "    Find and print count of each kind of flower (separated by space)?\n",
    "    Note: Get the dataset from here\n",
    "    Print the count as Integer Value.\n",
    "    Output Format\n",
    "    count1 count2 count3 ....."
   ]
  },
  {
   "cell_type": "code",
   "execution_count": 1,
   "id": "c3c8b39e",
   "metadata": {},
   "outputs": [
    {
     "name": "stdout",
     "output_type": "stream",
     "text": [
      "50 50 50\n"
     ]
    }
   ],
   "source": [
    "import pandas as pd   \n",
    "df=pd.read_csv('https://gist.githubusercontent.com/netj/8836201/raw/6f9306ad21398ea43cba4f7d537619d0e07d5ae3/iris.csv')\n",
    "\n",
    "\n",
    "\n",
    "print(int(df.variety.value_counts()['Setosa']),int(df.variety.value_counts()['Versicolor']),int(df.variety.value_counts()['Virginica']))"
   ]
  },
  {
   "cell_type": "markdown",
   "id": "ee874ed0",
   "metadata": {},
   "source": [
    "# Iris Virginica\n",
    "    Problem Statement\n",
    "    Find the data of flower “Iris-virginica” type where petal-length > 1.5?\n",
    "    Note: Get the dataset from here\n",
    "    Print the all the feature values.\n",
    "    Output Format\n",
    "    feature1 feature2 feature3 feature4 feature5\n",
    "    feature1 feature2 feature3 feature4 feature5\n",
    "    feature1 feature2 feature3 feature4 feature5\n",
    "    feature1 feature2 feature3 feature4 feature5"
   ]
  },
  {
   "cell_type": "code",
   "execution_count": 3,
   "id": "6ad1eb3f",
   "metadata": {},
   "outputs": [
    {
     "name": "stdout",
     "output_type": "stream",
     "text": [
      "6.3 3.3 6.0 2.5 Iris-virginica\n",
      "5.8 2.7 5.1 1.9 Iris-virginica\n",
      "7.1 3.0 5.9 2.1 Iris-virginica\n",
      "6.3 2.9 5.6 1.8 Iris-virginica\n",
      "6.5 3.0 5.8 2.2 Iris-virginica\n",
      "7.6 3.0 6.6 2.1 Iris-virginica\n",
      "4.9 2.5 4.5 1.7 Iris-virginica\n",
      "7.3 2.9 6.3 1.8 Iris-virginica\n",
      "6.7 2.5 5.8 1.8 Iris-virginica\n",
      "7.2 3.6 6.1 2.5 Iris-virginica\n",
      "6.5 3.2 5.1 2.0 Iris-virginica\n",
      "6.4 2.7 5.3 1.9 Iris-virginica\n",
      "6.8 3.0 5.5 2.1 Iris-virginica\n",
      "5.7 2.5 5.0 2.0 Iris-virginica\n",
      "5.8 2.8 5.1 2.4 Iris-virginica\n",
      "6.4 3.2 5.3 2.3 Iris-virginica\n",
      "6.5 3.0 5.5 1.8 Iris-virginica\n",
      "7.7 3.8 6.7 2.2 Iris-virginica\n",
      "7.7 2.6 6.9 2.3 Iris-virginica\n",
      "6.0 2.2 5.0 1.5 Iris-virginica\n",
      "6.9 3.2 5.7 2.3 Iris-virginica\n",
      "5.6 2.8 4.9 2.0 Iris-virginica\n",
      "7.7 2.8 6.7 2.0 Iris-virginica\n",
      "6.3 2.7 4.9 1.8 Iris-virginica\n",
      "6.7 3.3 5.7 2.1 Iris-virginica\n",
      "7.2 3.2 6.0 1.8 Iris-virginica\n",
      "6.2 2.8 4.8 1.8 Iris-virginica\n",
      "6.1 3.0 4.9 1.8 Iris-virginica\n",
      "6.4 2.8 5.6 2.1 Iris-virginica\n",
      "7.2 3.0 5.8 1.6 Iris-virginica\n",
      "7.4 2.8 6.1 1.9 Iris-virginica\n",
      "7.9 3.8 6.4 2.0 Iris-virginica\n",
      "6.4 2.8 5.6 2.2 Iris-virginica\n",
      "6.3 2.8 5.1 1.5 Iris-virginica\n",
      "6.1 2.6 5.6 1.4 Iris-virginica\n",
      "7.7 3.0 6.1 2.3 Iris-virginica\n",
      "6.3 3.4 5.6 2.4 Iris-virginica\n",
      "6.4 3.1 5.5 1.8 Iris-virginica\n",
      "6.0 3.0 4.8 1.8 Iris-virginica\n",
      "6.9 3.1 5.4 2.1 Iris-virginica\n",
      "6.7 3.1 5.6 2.4 Iris-virginica\n",
      "6.9 3.1 5.1 2.3 Iris-virginica\n",
      "5.8 2.7 5.1 1.9 Iris-virginica\n",
      "6.8 3.2 5.9 2.3 Iris-virginica\n",
      "6.7 3.3 5.7 2.5 Iris-virginica\n",
      "6.7 3.0 5.2 2.3 Iris-virginica\n",
      "6.3 2.5 5.0 1.9 Iris-virginica\n",
      "6.5 3.0 5.2 2.0 Iris-virginica\n",
      "6.2 3.4 5.4 2.3 Iris-virginica\n",
      "5.9 3.0 5.1 1.8 Iris-virginica\n"
     ]
    }
   ],
   "source": [
    "import pandas as pd   \n",
    "df=pd.read_csv('https://files.codingninjas.in/iris-8116.csv?_ga=2.147866740.234039453.1659624921-456271772.1655977586')\n",
    "\n",
    "df = df[(df.variety == 'Iris-virginica') & (df['petal.length']>1.5)]\n",
    "for i in df.values:\n",
    "    print(i[0],i[1],i[2],i[3],i[4])"
   ]
  },
  {
   "cell_type": "markdown",
   "id": "cc335e68",
   "metadata": {},
   "source": [
    "# Iris Values\n",
    "    Problem Statement\n",
    "    Find and print the minimum, maximum and average value of the feature for each kind of flower ?\n",
    "    Note: Get the dataset from here\n",
    "    Print the value with two decimal places.\n",
    "    Note: Order for flower is Iris-setosa, Iris-versicolor and Iris-virginica.\n",
    "    Output Format\n",
    "    minSL minSW minPL minPW Iris-setosa\n",
    "    maxSL maxSW maxPL maxPW Iris-setosa\n",
    "    avgSL avgSW avgPL avgPW Iris-setosa\n",
    "    . . .\n",
    "    . . .\n",
    "    . . .\n"
   ]
  },
  {
   "cell_type": "code",
   "execution_count": 5,
   "id": "c9b32175",
   "metadata": {},
   "outputs": [
    {
     "name": "stdout",
     "output_type": "stream",
     "text": [
      "4.30 2.30 1.00 0.10 Iris-setosa\n",
      "5.80 4.40 1.90 0.60 Iris-setosa\n",
      "5.01 3.42 1.46 0.24 Iris-setosa\n",
      "4.90 2.00 3.00 1.00 Iris-versicolor\n",
      "7.00 3.40 5.10 1.80 Iris-versicolor\n",
      "5.94 2.77 4.26 1.33 Iris-versicolor\n",
      "4.90 2.20 4.50 1.40 Iris-virginica\n",
      "7.90 3.80 6.90 2.50 Iris-virginica\n",
      "6.59 2.97 5.55 2.03 Iris-virginica\n"
     ]
    }
   ],
   "source": [
    "import pandas as pd   \n",
    "data_file=pd.read_csv('https://archive.ics.uci.edu/ml/machine-learning-databases/iris/iris.data',header=None)\n",
    "data_file.columns = ['sl', 'sw', 'pl', 'pw', 'flower_type']\n",
    "\n",
    "for n in ['Iris-setosa','Iris-versicolor','Iris-virginica']:\n",
    "    file=data_file[data_file.flower_type==n]\n",
    "    data=file.describe()\n",
    "    data.loc['avg']=[sum(file.sl)/50.0,sum(file.sw)/50.0,sum(file.pl)/50.0,sum(file.pw)/50.0]\n",
    "    \n",
    "    for i in ['min','max','avg']:\n",
    "        for j in ['sl','sw','pl','pw']:\n",
    "            print('%.2f'%data[j][i],end=\" \")\n",
    "        print(n)\n",
    "\n"
   ]
  },
  {
   "cell_type": "markdown",
   "id": "b4f6148a",
   "metadata": {},
   "source": [
    "# Terror Attack City\n",
    "    Given file \"terrorismData.csv\"\n",
    "    It is an open-source database including information on terrorist attacks around the world from 1970 through 2017. This dataset includes systematic data on domestic as well as international terrorist incidents that have occurred during this time period\n",
    "    Problem Statement :\n",
    "    The Most Dangerous city in Jammu and Kashmir and the terrorist group which is most active in that city?\n",
    "    Print count of number of attacks in that city as integer value.\n",
    "    Note:Ignoring the Unknown Terrorist Group.Here Dangerous related with the number of terrorist attacks.\n",
    "    Output Format :\n",
    "    City NumberOfAttack Group"
   ]
  },
  {
   "cell_type": "code",
   "execution_count": 7,
   "id": "d12fe215",
   "metadata": {},
   "outputs": [
    {
     "name": "stdout",
     "output_type": "stream",
     "text": [
      "Srinagar 657 Muslim Separatists\n"
     ]
    }
   ],
   "source": [
    "import pandas as pd   \n",
    "df=pd.read_csv(r\"terrorismData.csv\")\n",
    "df=df[df.State=='Jammu and Kashmir']\n",
    "df=df[df.City==df.City.describe().top]\n",
    "count=df.shape[0]\n",
    "df=df[df.Group!='Unknown']\n",
    "city=df.City.describe().top\n",
    "group=df.Group.describe().top\n",
    "print(city, count, group)"
   ]
  },
  {
   "cell_type": "markdown",
   "id": "5738bd57",
   "metadata": {},
   "source": [
    "# Terror Government\n",
    "    Given file \"terrorismData.csv\"\n",
    "    It is an open-source database including information on terrorist attacks around the world from 1970 through 2017. This dataset includes systematic data on domestic as well as international terrorist incidents that have occurred during this time period\n",
    "    Problem Statement :\n",
    "    There was formation of new government in India on 26 May 2014. So current government's span is from 26th May 2014 to current. Find out two things from this period-\n",
    "    1. Total number of attacks done in this period in India. Find this count as integer.\n",
    "    2. Which Terrorist group was most active in this period in India. Most active means, group which has done maximum number of attacks. \n",
    "    3.Ignore the Unknown group. \n",
    "    Output Format :\n",
    "    TotalAttacks MostActiveTerroristGroup"
   ]
  },
  {
   "cell_type": "code",
   "execution_count": 9,
   "id": "20728f58",
   "metadata": {},
   "outputs": [
    {
     "name": "stdout",
     "output_type": "stream",
     "text": [
      "3336 Maoists\n"
     ]
    }
   ],
   "source": [
    "import pandas as pd   \n",
    "df=pd.read_csv(r\"terrorismData.csv\")\n",
    "a=df[df.Day>=26]\n",
    "b=a[a.Year==2014]\n",
    "c=b[b.Country=='India']\n",
    "ans1=c[c.Month==5]\n",
    "del a\n",
    "del b\n",
    "del c\n",
    "a=df[df.Year==2014]\n",
    "b=a[a.Country=='India']\n",
    "ans2=b[b.Month>5]\n",
    "del a\n",
    "del b\n",
    "a=df[df.Country=='India']\n",
    "ans3=a[a.Year>2014]\n",
    "count=ans1.shape[0]+ans2.shape[0]+ans3.shape[0]\n",
    "print(count, end=' ')\n",
    "ans1=ans1[ans1.Group!='Unknown']\n",
    "ans2=ans2[ans2.Group!='Unknown']\n",
    "ans3=ans3[ans3.Group!='Unknown']\n",
    "print(ans3.Group.describe().top)"
   ]
  },
  {
   "cell_type": "markdown",
   "id": "468a232b",
   "metadata": {},
   "source": [
    "# Terror Frequency\n",
    "    Given file \"terrorismData.csv\"\n",
    "    It is an open-source database including information on terrorist attacks around the world from 1970 through 2017. This dataset includes systematic data on domestic as well as international terrorist incidents that have occurred during this time period\n",
    "    Problem Statement :\n",
    "    Find the frequency of the Casualty in Red Corridor states and in Jammu and Kashmir ?Here Frequency is (Total Casualty/Total Number of a year)\n",
    "    Print frequency as integer value.\n",
    "    Note:Red Corridor state includes Jharkhand, Odisha, Andhra Pradesh, and Chhattisgarh. Here Casualty=Killed +Wounded.Don't fill the nan value present in Killed and Wounded feature.\n",
    "    Output Format :\n",
    "    Frequency1 Frequency2 \n"
   ]
  },
  {
   "cell_type": "code",
   "execution_count": 10,
   "id": "75b9d415",
   "metadata": {},
   "outputs": [
    {
     "name": "stdout",
     "output_type": "stream",
     "text": [
      "115 261\n"
     ]
    }
   ],
   "source": [
    "## Open and read data file as specified in the question\n",
    "## Print the required output in given formatyear=len(set(df_terrorism['Year']))\n",
    "import pandas as pd \n",
    "import numpy as np\n",
    "df_terrorism=pd.read_csv(r\"terrorismData.csv\")\n",
    "year=len(set(df_terrorism['Year']))\n",
    "\n",
    "df_terrorism=df_terrorism[df_terrorism['Country']=='India']\n",
    "\n",
    "df_terrorism['Casualty']=df_terrorism['Killed']+df_terrorism['Wounded']\n",
    "\n",
    "Jammu_state=df_terrorism[df_terrorism['State']=='Jammu and Kashmir']\n",
    "\n",
    "red_state=df_terrorism[(df_terrorism['State']=='Jharkhand')|(df_terrorism['State']=='Odisha')\n",
    "                       |(df_terrorism['State']=='Andhra Pradesh')|(df_terrorism['State']=='Chhattisgarh')]\n",
    "\n",
    "red_casualty=int(np.sum(red_state['Casualty']))\n",
    "\n",
    "Jammu_casualty=int(np.sum(Jammu_state['Casualty']))\n",
    "\n",
    "print(red_casualty//year,Jammu_casualty//year)"
   ]
  },
  {
   "cell_type": "markdown",
   "id": "36a22bad",
   "metadata": {},
   "source": [
    "# Terror DeadliestAttack\n",
    "    Given file \"terrorismData.csv\"\n",
    "    It is an open-source database including information on terrorist attacks around the world from 1970 through 2017. This dataset includes systematic data on domestic as well as international terrorist incidents that have occurred during this time period\n",
    "    Problem Statement :\n",
    "    Most Deadliest attack in a history of HumanKind?\n",
    "    Print count of Killed people as integer value.\n",
    "    Note: Here Deadliest attack means, in which the most number of people killed.\n",
    "    Output Format :\n",
    "    NumberOfPeopleKilled Country TerroristGroup"
   ]
  },
  {
   "cell_type": "code",
   "execution_count": 11,
   "id": "f2cc142f",
   "metadata": {},
   "outputs": [
    {
     "name": "stdout",
     "output_type": "stream",
     "text": [
      "1570 Iraq Islamic State of Iraq and the Levant (ISIL)\n"
     ]
    }
   ],
   "source": [
    "import pandas as pd \n",
    "import numpy as np\n",
    "df=pd.read_csv(r\"terrorismData.csv\")\n",
    "df=df[df.Killed==df.Killed.max()]\n",
    "killed=df.Killed.iloc[0]\n",
    "country=df.Country.iloc[0]\n",
    "group=df.Group.iloc[0]\n",
    "print(int(killed), country, group)"
   ]
  },
  {
   "cell_type": "markdown",
   "id": "dadb18ef",
   "metadata": {},
   "source": [
    "# Terror Attack\n",
    "    Given file \"terrorismData.csv\"\n",
    "    It is an open-source database including information on terrorist attacks around the world from 1970 through 2017. This dataset includes systematic data on domestic as well as international terrorist incidents that have occurred during this time period\n",
    "    Problem Statement :\n",
    "    Find out the Country with Highest Number of Terror Attack and in which year the most number of terrorist attack happened in that country ?\n",
    "    Print count of terror attacks as integer value.\n",
    "    Output Format :\n",
    "    Country NumberOfAttack Year\n"
   ]
  },
  {
   "cell_type": "code",
   "execution_count": 12,
   "id": "739534aa",
   "metadata": {},
   "outputs": [
    {
     "name": "stdout",
     "output_type": "stream",
     "text": [
      "Iraq 24636 2014\n"
     ]
    }
   ],
   "source": [
    "## Open and read data file as specified in the question\n",
    "## Print the required output in given format\n",
    "import pandas as pd \n",
    "import numpy as np\n",
    "df=pd.read_csv(r\"terrorismData.csv\")\n",
    "df=df[df.Country==df.Country.describe().top]\n",
    "count=df.shape[0]\n",
    "country=df.Country.describe().top\n",
    "y={}\n",
    "for i in df.Year:\n",
    "    if i in y.keys():\n",
    "        y[i]+=1\n",
    "    else:\n",
    "        y[i]=1\n",
    "cnt=0\n",
    "year=0\n",
    "for i in y.keys():\n",
    "    if cnt<y[i]:\n",
    "        cnt=y[i]\n",
    "        year=i\n",
    "print(country, count, year)"
   ]
  }
 ],
 "metadata": {
  "kernelspec": {
   "display_name": "Python 3 (ipykernel)",
   "language": "python",
   "name": "python3"
  },
  "language_info": {
   "codemirror_mode": {
    "name": "ipython",
    "version": 3
   },
   "file_extension": ".py",
   "mimetype": "text/x-python",
   "name": "python",
   "nbconvert_exporter": "python",
   "pygments_lexer": "ipython3",
   "version": "3.10.4"
  }
 },
 "nbformat": 4,
 "nbformat_minor": 5
}
